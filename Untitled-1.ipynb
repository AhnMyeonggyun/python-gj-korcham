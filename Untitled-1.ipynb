{
 "cells": [
  {
   "cell_type": "markdown",
   "metadata": {},
   "source": [
    "# 파이썬 공부 첫날"
   ]
  },
  {
   "cell_type": "code",
   "execution_count": 4,
   "metadata": {},
   "outputs": [
    {
     "name": "stdout",
     "output_type": "stream",
     "text": [
      "안녕하세요.\n"
     ]
    }
   ],
   "source": [
    "print(\"안녕하세요.\")"
   ]
  },
  {
   "cell_type": "code",
   "execution_count": 3,
   "metadata": {},
   "outputs": [
    {
     "name": "stdout",
     "output_type": "stream",
     "text": [
      "ㅎㅇ\n"
     ]
    }
   ],
   "source": [
    "print(\"ㅎㅇ\")"
   ]
  },
  {
   "cell_type": "code",
   "execution_count": 6,
   "metadata": {},
   "outputs": [
    {
     "name": "stdout",
     "output_type": "stream",
     "text": [
      "몫: 1 나머지: 2\n"
     ]
    }
   ],
   "source": [
    "a = int(input(\"정수: \"))\n",
    "b = int(input(\"정수: \"))\n",
    "print(\"몫:\", a//b, \"나머지:\", a%b)\n"
   ]
  },
  {
   "cell_type": "code",
   "execution_count": 9,
   "metadata": {},
   "outputs": [
    {
     "name": "stdout",
     "output_type": "stream",
     "text": [
      "원의 넓이: 78.53981633974483\n"
     ]
    }
   ],
   "source": [
    "\n",
    "r = int(input(\"반지름: \"))\n",
    "print(\"원의 넓이:\", r*r*math.pi)"
   ]
  },
  {
   "cell_type": "code",
   "execution_count": 12,
   "metadata": {},
   "outputs": [
    {
     "name": "stdout",
     "output_type": "stream",
     "text": [
      "총점: 50 평균: 16.666666666666668\n"
     ]
    }
   ],
   "source": [
    "a = int(input(\"성적1: \"))\n",
    "\n",
    "c = int(input(\"성적3: \"))\n",
    "sum = a+b+c\n",
    "print(\"총점:\", sum, \"평균:\", sum/3)"
   ]
  },
  {
   "cell_type": "code",
   "execution_count": 14,
   "metadata": {},
   "outputs": [
    {
     "name": "stdout",
     "output_type": "stream",
     "text": [
      "1 미터 76 센티미터\n"
     ]
    }
   ],
   "source": [
    "cm = int(input(\"센티미터 단위의 길이: \"))\n",
    "m = cm//100\n",
    "cm = cm%100\n",
    "print(m, \"미터\", cm, \"센티미터\")"
   ]
  },
  {
   "cell_type": "code",
   "execution_count": 15,
   "metadata": {},
   "outputs": [
    {
     "name": "stdout",
     "output_type": "stream",
     "text": [
      "2 시간 0 분 0 초\n"
     ]
    }
   ],
   "source": [
    "s = int(input(\"초 단위의 시간: \"))\n",
    "h = s//3600\n",
    "s = s%3600\n",
    "m = s//60\n",
    "s = s%60\n",
    "print(h, \"시간\", m, \"분\", s, \"초\")"
   ]
  },
  {
   "cell_type": "code",
   "execution_count": 33,
   "metadata": {},
   "outputs": [
    {
     "name": "stdout",
     "output_type": "stream",
     "text": [
      "가장 큰 수 : 3\n"
     ]
    }
   ],
   "source": [
    "a =  int(input(\"정수\"))\n",
    "b =  int(input(\"정수\"))\n",
    "c=  int(input(\"정수\"))\n",
    "if  a > b:\n",
    "    if  a   >   c:  \n",
    "       print(\"제일큰값\",a)\n",
    "    else:\n",
    "        print(\"제일큰값\",c)\n",
    "else:\n",
    "\n",
    "    if     b    >   c:\n",
    "        print(\"가장 큰 수 :\", b)\n",
    "    else:\n",
    "        print(\"가장 큰 수 :\", c)\n"
   ]
  },
  {
   "cell_type": "code",
   "execution_count": null,
   "metadata": {},
   "outputs": [],
   "source": [
    "a = int(input(\"정수: \"))\n",
    "b = int(input(\"정수: \"))\n",
    "c = int(input(\"정수: \"))\n",
    "\n",
    "if a > b:\n",
    "    if a > c:\n",
    "        print(\"가장 큰 수:\", a)  # 들여쓰기 수정\n",
    "    else:\n",
    "        print(\"가장 큰 수:\", c)  # `else` 구문 수정\n",
    "else:\n",
    "    if b > c:\n",
    "        print(\"가장 큰 수:\", b)  # 들여쓰기 수정\n",
    "    else:\n",
    "        print(\"가장 큰 수:\", c)  # `else` 구문 수정\n"
   ]
  },
  {
   "cell_type": "code",
   "execution_count": 38,
   "metadata": {},
   "outputs": [
    {
     "name": "stdout",
     "output_type": "stream",
     "text": [
      "반값입니다. 2500.0 원\n"
     ]
    }
   ],
   "source": [
    "charge=5000\n",
    "age=int(input(\"나이\"))\n",
    "if  age <   8:\n",
    "    print(\"무료입니다.\")\n",
    "elif    age <   60:\n",
    "    print(\"정가\", charge)\n",
    "else:   \n",
    "    print(\"반값입니다.\", charge*0.5,\"원\")"
   ]
  },
  {
   "cell_type": "code",
   "execution_count": 40,
   "metadata": {},
   "outputs": [
    {
     "name": "stdout",
     "output_type": "stream",
     "text": [
      "배수가 아니다\n"
     ]
    }
   ],
   "source": [
    "a=int(input())\n",
    "\n",
    "if  a%3==0 and a%5==0:\n",
    "    print(\"3과5의 배수\")\n",
    "else: print(\"배수가 아니다\")    "
   ]
  },
  {
   "cell_type": "code",
   "execution_count": 44,
   "metadata": {},
   "outputs": [
    {
     "name": "stdout",
     "output_type": "stream",
     "text": [
      "**************************************************"
     ]
    }
   ],
   "source": [
    "for i in range(1, 51, 1):\n",
    " print(\"*\", end=\"\")"
   ]
  },
  {
   "cell_type": "code",
   "execution_count": 50,
   "metadata": {},
   "outputs": [
    {
     "name": "stdout",
     "output_type": "stream",
     "text": [
      "*******************************************************"
     ]
    }
   ],
   "source": [
    "count   =   1\n",
    "while   count<=55:\n",
    "    print(\"*\", end=\"\")\n",
    "    count=count+1"
   ]
  },
  {
   "cell_type": "code",
   "execution_count": 55,
   "metadata": {},
   "outputs": [
    {
     "name": "stdout",
     "output_type": "stream",
     "text": [
      "****"
     ]
    }
   ],
   "source": [
    "for i in range(1,5,1):\n",
    "    print(\"*\", end=\"\")\n"
   ]
  },
  {
   "cell_type": "code",
   "execution_count": 67,
   "metadata": {},
   "outputs": [
    {
     "name": "stdout",
     "output_type": "stream",
     "text": [
      "1 11 22 12 2"
     ]
    }
   ],
   "source": [
    "for i in range(1,3,1):\n",
    "   for  j   in  range(1,3,1):\n",
    "    print(i,j,end=\"\")"
   ]
  },
  {
   "cell_type": "code",
   "execution_count": 73,
   "metadata": {},
   "outputs": [
    {
     "name": "stdout",
     "output_type": "stream",
     "text": [
      "5\n",
      "6\n",
      "7\n",
      "8\n",
      "9\n",
      "10\n",
      "11\n",
      "12\n",
      "13\n",
      "14\n",
      "15\n"
     ]
    }
   ],
   "source": [
    "i=5\n",
    "while i<=15:\n",
    "    print(i)\n",
    "    i=i+1"
   ]
  },
  {
   "cell_type": "code",
   "execution_count": 72,
   "metadata": {},
   "outputs": [
    {
     "name": "stdout",
     "output_type": "stream",
     "text": [
      "5 6 7 8 9 10 11 12 13 14 15 "
     ]
    }
   ],
   "source": [
    "for i in range(5,16,1):\n",
    "    print(i, end=\" \")"
   ]
  },
  {
   "cell_type": "code",
   "execution_count": 78,
   "metadata": {},
   "outputs": [
    {
     "name": "stdout",
     "output_type": "stream",
     "text": [
      "11 10 9 8 7 6 5 4 3 2 1 "
     ]
    }
   ],
   "source": [
    "for i in range(11,0,-1):     \n",
    "    print(i, end=\" \")"
   ]
  },
  {
   "cell_type": "code",
   "execution_count": 81,
   "metadata": {},
   "outputs": [
    {
     "name": "stdout",
     "output_type": "stream",
     "text": [
      "10 9 8 7 6 5 4 3 2 "
     ]
    }
   ],
   "source": [
    "i=10\n",
    "while   i>=2:\n",
    "    print(i, end=\" \")\n",
    "    i=i-1"
   ]
  },
  {
   "cell_type": "code",
   "execution_count": 85,
   "metadata": {},
   "outputs": [
    {
     "name": "stdout",
     "output_type": "stream",
     "text": [
      "1\n",
      "3\n",
      "6\n",
      "10\n",
      "15\n",
      "21\n",
      "28\n",
      "36\n",
      "45\n",
      "55\n",
      "66\n",
      "78\n",
      "91\n",
      "105\n",
      "120\n",
      "136\n",
      "153\n",
      "171\n",
      "190\n",
      "210\n",
      "231\n",
      "253\n",
      "276\n",
      "300\n",
      "325\n",
      "351\n",
      "378\n",
      "406\n",
      "435\n",
      "465\n",
      "496\n",
      "528\n",
      "561\n",
      "595\n",
      "630\n",
      "666\n",
      "703\n",
      "741\n",
      "780\n",
      "820\n",
      "861\n",
      "903\n",
      "946\n",
      "990\n",
      "1035\n",
      "1081\n",
      "1128\n",
      "1176\n",
      "1225\n",
      "1275\n",
      "1326\n",
      "1378\n",
      "1431\n",
      "1485\n",
      "1540\n",
      "1596\n",
      "1653\n",
      "1711\n",
      "1770\n",
      "1830\n",
      "1891\n",
      "1953\n",
      "2016\n",
      "2080\n",
      "2145\n",
      "2211\n",
      "2278\n",
      "2346\n",
      "2415\n",
      "2485\n",
      "2556\n",
      "2628\n",
      "2701\n",
      "2775\n",
      "2850\n",
      "2926\n",
      "3003\n",
      "3081\n",
      "3160\n",
      "3240\n",
      "3321\n",
      "3403\n",
      "3486\n",
      "3570\n",
      "3655\n",
      "3741\n",
      "3828\n",
      "3916\n",
      "4005\n",
      "4095\n",
      "4186\n",
      "4278\n",
      "4371\n",
      "4465\n",
      "4560\n",
      "4656\n",
      "4753\n",
      "4851\n",
      "4950\n",
      "5050\n"
     ]
    }
   ],
   "source": [
    "sum=0\n",
    "for i in range(1,101):\n",
    "    sum = sum+i\n",
    "    print(sum)"
   ]
  },
  {
   "cell_type": "code",
   "execution_count": 93,
   "metadata": {},
   "outputs": [
    {
     "name": "stdout",
     "output_type": "stream",
     "text": [
      "5050\n"
     ]
    }
   ],
   "source": [
    "total = 0  # 합계를 저장할 변수\n",
    "\n",
    "for i in range(1, 101):\n",
    "    total = total+i  # 누적 합 계산\n",
    "\n",
    "print(total)  # 반복문이 끝난 후 최종 값 출력\n"
   ]
  },
  {
   "cell_type": "code",
   "execution_count": null,
   "metadata": {},
   "outputs": [
    {
     "name": "stdout",
     "output_type": "stream",
     "text": [
      "5050\n"
     ]
    }
   ],
   "source": [
    "\n",
    "\n",
    "\n",
    "total = 0\n",
    "for i in range(1, 101):\n",
    "    total = total+i\n",
    "    print(total)"
   ]
  },
  {
   "cell_type": "code",
   "execution_count": 107,
   "metadata": {},
   "outputs": [
    {
     "name": "stdout",
     "output_type": "stream",
     "text": [
      "10\n"
     ]
    }
   ],
   "source": [
    "sum=0\n",
    "n= int(input(\"\"))\n",
    "for i in range(1, n):\n",
    "    sum = sum+i\n",
    "print(sum)    "
   ]
  },
  {
   "cell_type": "code",
   "execution_count": 113,
   "metadata": {},
   "outputs": [
    {
     "name": "stdout",
     "output_type": "stream",
     "text": [
      "1683\n"
     ]
    }
   ],
   "source": [
    "sum = 0\n",
    "for i   in  range(3, 101, 3):\n",
    "    sum = sum+i\n",
    "print(sum)"
   ]
  },
  {
   "cell_type": "code",
   "execution_count": 114,
   "metadata": {},
   "outputs": [
    {
     "name": "stdout",
     "output_type": "stream",
     "text": [
      "1부터 100까지 3의 배수의 합: 1683\n"
     ]
    }
   ],
   "source": [
    "total = 0  # 3의 배수의 합을 저장할 변수\n",
    "\n",
    "for i in range(1, 101):  # 1부터 100까지 반복\n",
    "    if i % 3 == 0:  # 3의 배수인지 확인\n",
    "        total += i  # total = total + i\n",
    "\n",
    "print(\"1부터 100까지 3의 배수의 합:\", total)\n"
   ]
  },
  {
   "cell_type": "code",
   "execution_count": 116,
   "metadata": {},
   "outputs": [
    {
     "name": "stdout",
     "output_type": "stream",
     "text": [
      "2550\n"
     ]
    }
   ],
   "source": [
    "sum = 0\n",
    "for i   in  range(1, 101, 1):\n",
    "    if  i%2==0:\n",
    "        sum=sum+i\n",
    "print(sum)"
   ]
  },
  {
   "cell_type": "code",
   "execution_count": 117,
   "metadata": {},
   "outputs": [
    {
     "name": "stdout",
     "output_type": "stream",
     "text": [
      "1683\n"
     ]
    }
   ],
   "source": [
    "sum = 0\n",
    "for i   in  range(1, 101, 1):\n",
    "    if  i%3==0:\n",
    "        sum=sum+i\n",
    "print(sum)"
   ]
  },
  {
   "cell_type": "code",
   "execution_count": 120,
   "metadata": {},
   "outputs": [
    {
     "name": "stdout",
     "output_type": "stream",
     "text": [
      "-50\n"
     ]
    }
   ],
   "source": [
    "sum=0\n",
    "\n",
    "for i   in  range(1, 101):\n",
    "    if  i%2==0:\n",
    "        sum=sum-i\n",
    "    else:   sum = sum+i\n",
    "print(sum)"
   ]
  },
  {
   "cell_type": "code",
   "execution_count": 121,
   "metadata": {},
   "outputs": [
    {
     "name": "stdout",
     "output_type": "stream",
     "text": [
      "1684\n"
     ]
    }
   ],
   "source": [
    "sum=0\n",
    "\n",
    "for i   in  range(1, 101):\n",
    "    if  i%3==0:\n",
    "        sum=sum-i\n",
    "    else:   sum = sum+i\n",
    "print(sum)"
   ]
  },
  {
   "cell_type": "code",
   "execution_count": 125,
   "metadata": {},
   "outputs": [
    {
     "name": "stdout",
     "output_type": "stream",
     "text": [
      "1, 2, -3, 4, 5, -6, ..., -99, 100의 합: 1684\n"
     ]
    }
   ],
   "source": [
    "total = 0  # 합을 저장할 변수\n",
    "\n",
    "for i in range(1, 101):  # 1부터 100까지 반복\n",
    "    if i % 3 == 0:  # 3의 배수이면 음수로 변환하여 더하기\n",
    "        total += -i  # 음수로 변환하여 더함\n",
    "    else:\n",
    "        total += i  # 그대로 더함\n",
    "\n",
    "print(\"1, 2, -3, 4, 5, -6, ..., -99, 100의 합:\", total)\n",
    "\n",
    "\n"
   ]
  },
  {
   "cell_type": "code",
   "execution_count": 128,
   "metadata": {},
   "outputs": [
    {
     "name": "stdout",
     "output_type": "stream",
     "text": [
      "60\n"
     ]
    }
   ],
   "source": [
    "fact=1\n",
    "for i   in  range(5, 2, -1):\n",
    "    fact=fact*i\n",
    "print(fact)"
   ]
  },
  {
   "cell_type": "code",
   "execution_count": 129,
   "metadata": {},
   "outputs": [
    {
     "name": "stdout",
     "output_type": "stream",
     "text": [
      "120\n"
     ]
    }
   ],
   "source": [
    " import math\n",
    " print(math.factorial(5))\n"
   ]
  },
  {
   "cell_type": "code",
   "execution_count": 144,
   "metadata": {},
   "outputs": [
    {
     "name": "stdout",
     "output_type": "stream",
     "text": [
      "1 2 약수의갯수 2\n"
     ]
    }
   ],
   "source": [
    "n=int(input(\"정수: \"))\n",
    "count=0\n",
    "for i   in  range(1, n+1):\n",
    "    if    n%i==0:\n",
    "        print(i, end=\" \")\n",
    "        count =count+1\n",
    "print( \"약수의갯수\" , count)"
   ]
  },
  {
   "cell_type": "code",
   "execution_count": 149,
   "metadata": {},
   "outputs": [
    {
     "name": "stdout",
     "output_type": "stream",
     "text": [
      "1 3 5 15 "
     ]
    }
   ],
   "source": [
    "n1=int(input(\"정수\"))\n",
    "n2=int(input(\"정수\"))\n",
    "for i   in  range(1, n2+1):\n",
    "        if  n1%i==0  and    n2%i==0:\n",
    "                print(i, end=\" \")"
   ]
  },
  {
   "cell_type": "code",
   "execution_count": 151,
   "metadata": {},
   "outputs": [
    {
     "name": "stdout",
     "output_type": "stream",
     "text": [
      "1\n",
      "2\n",
      "5\n",
      "10\n"
     ]
    }
   ],
   "source": [
    "n1=int(input(\"정수\"))\n",
    "n2=int(input(\"정수\"))\n",
    "n3=int(input(\"정수\"))\n",
    "\n",
    "for i   in  range(1, n1+1,1):\n",
    "    if n1%i==0 and n2%i==0 and  n3%i==0:\n",
    "        print(i)\n"
   ]
  },
  {
   "cell_type": "code",
   "execution_count": null,
   "metadata": {},
   "outputs": [],
   "source": [
    "a=1\n",
    "b=1\n",
    "\n",
    "for i   in  range(3, 20, 1):\n",
    "    "
   ]
  },
  {
   "cell_type": "code",
   "execution_count": 154,
   "metadata": {},
   "outputs": [
    {
     "name": "stdout",
     "output_type": "stream",
     "text": [
      "1 1 2 3 5 8 13 21 34 55 89 144 233 377 610 987 1597 2584 4181 6765 "
     ]
    }
   ],
   "source": [
    "a = 1\n",
    "b = 1\n",
    "print(a, b, end=\" \")\n",
    "for i in range(1, 19):\n",
    "     \n",
    "    c = a+b             \n",
    "    print(c, end=\" \")\n",
    "    a = b\n",
    "    b = c"
   ]
  },
  {
   "cell_type": "code",
   "execution_count": null,
   "metadata": {},
   "outputs": [
    {
     "name": "stdout",
     "output_type": "stream",
     "text": [
      "1 1 2 3 5 8 13 21 34 55 89 144 233 377 610 987 1597 2584 4181 6765 10946 17711 "
     ]
    }
   ],
   "source": [
    "a=0\n",
    "b=0\n",
    "sum=1\n",
    "\n",
    "print(a,b, end=\" \")\n",
    "for i in range(3,21,1):\n",
    "    c= a+b\n",
    "    sum=c+\n",
    "    print(c, end=\" \")\n",
    "    a=b\n",
    "    b=c\n"
   ]
  },
  {
   "cell_type": "code",
   "execution_count": 156,
   "metadata": {},
   "outputs": [
    {
     "name": "stdout",
     "output_type": "stream",
     "text": [
      "피보나치 수열의 20번째 항까지의 합: 10945\n"
     ]
    }
   ],
   "source": [
    "# 피보나치 수열의 20번째 항까지의 합 구하기\n",
    "a, b = 0, 1  # 첫 번째, 두 번째 항\n",
    "total = 1  # 합 (0 + 1)\n",
    "\n",
    "for i in range(3, 21):  # 3번째 항부터 20번째 항까지 계산\n",
    "    next_fib = a + b  # 새로운 피보나치 수 계산\n",
    "    total += next_fib  # 누적 합 갱신\n",
    "    a, b = b, next_fib  # 값 업데이트\n",
    "\n",
    "print(\"피보나치 수열의 20번째 항까지의 합:\", total)\n"
   ]
  },
  {
   "cell_type": "code",
   "execution_count": 159,
   "metadata": {},
   "outputs": [
    {
     "name": "stdout",
     "output_type": "stream",
     "text": [
      "최댓값 : 2412\n"
     ]
    }
   ],
   "source": [
    "a = int(input(\"정수: \"))\n",
    "m = a\n",
    "while a!=0:       \n",
    "    if a>m:\n",
    "     m = a\n",
    "    a = int(input(\"정수: \"))\n",
    "print(\"최댓값 :\", m)"
   ]
  },
  {
   "cell_type": "code",
   "execution_count": 164,
   "metadata": {},
   "outputs": [
    {
     "name": "stdout",
     "output_type": "stream",
     "text": [
      "최소값은 1 0\n"
     ]
    }
   ],
   "source": [
    "a = int(input())\n",
    "min = a\n",
    "\n",
    "while a!=0:\n",
    "    if a<min:\n",
    "        min = a\n",
    "    a  = int(input()) \n",
    "print(\"최소값은\", min, a)"
   ]
  },
  {
   "cell_type": "code",
   "execution_count": 166,
   "metadata": {},
   "outputs": [
    {
     "name": "stdout",
     "output_type": "stream",
     "text": [
      "1 \n",
      "1 2 \n",
      "1 2 3 \n",
      "1 2 3 4 \n",
      "1 2 3 4 5 \n"
     ]
    }
   ],
   "source": [
    "for i in range(1, 6):\n",
    "    for j   in  range(1, i+1):\n",
    "            print(j, end= \" \")\n",
    "    print()"
   ]
  },
  {
   "cell_type": "code",
   "execution_count": 167,
   "metadata": {},
   "outputs": [
    {
     "name": "stdout",
     "output_type": "stream",
     "text": [
      "1 약수: 1 2 약수: 1 2 3 약수: 1 3 4 약수: 1 2 4 5 약수: 1 5 6 약수: 1 2 3 6 7 약수: 1 7 8 약수: 1 2 4 8 9 약수: 1 3 9 10 약수: 1 2 5 10 "
     ]
    }
   ],
   "source": [
    "for i in range(1, 11):\n",
    "    print(i, \"약수:\", end=\" \")\n",
    "    for j   in range(1,i+1):\n",
    "        if  i%j==0 :\n",
    "            print(j, end=\" \")\n",
    "    print\n"
   ]
  },
  {
   "cell_type": "code",
   "execution_count": 170,
   "metadata": {},
   "outputs": [
    {
     "name": "stdout",
     "output_type": "stream",
     "text": [
      "2 3 5 7 11 13 17 19 23 29 31 37 41 43 47 53 59 61 67 71 73 79 83 89 97 "
     ]
    }
   ],
   "source": [
    "for i in range(2, 101):\n",
    "    chk = 1\n",
    "    for j in range(2, i):\n",
    "        if i%j==0:\n",
    "            chk = 0\n",
    "            break\n",
    "    if chk==1:\n",
    "         print(i, end=\" \")"
   ]
  },
  {
   "cell_type": "code",
   "execution_count": 178,
   "metadata": {},
   "outputs": [
    {
     "name": "stdout",
     "output_type": "stream",
     "text": [
      "2 * 2 = 4\n",
      "2 * 3 = 6\n",
      "2 * 4 = 8\n",
      "2 * 5 = 10\n",
      "2 * 6 = 12\n",
      "2 * 7 = 14\n",
      "2 * 8 = 16\n",
      "2 * 9 = 18\n",
      "\n",
      "3 * 3 = 9\n",
      "3 * 4 = 12\n",
      "3 * 5 = 15\n",
      "3 * 6 = 18\n",
      "3 * 7 = 21\n",
      "3 * 8 = 24\n",
      "3 * 9 = 27\n",
      "\n",
      "4 * 4 = 16\n",
      "4 * 5 = 20\n",
      "4 * 6 = 24\n",
      "4 * 7 = 28\n",
      "4 * 8 = 32\n",
      "4 * 9 = 36\n",
      "\n",
      "5 * 5 = 25\n",
      "5 * 6 = 30\n",
      "5 * 7 = 35\n",
      "5 * 8 = 40\n",
      "5 * 9 = 45\n",
      "\n",
      "6 * 6 = 36\n",
      "6 * 7 = 42\n",
      "6 * 8 = 48\n",
      "6 * 9 = 54\n",
      "\n",
      "7 * 7 = 49\n",
      "7 * 8 = 56\n",
      "7 * 9 = 63\n",
      "\n",
      "8 * 8 = 64\n",
      "8 * 9 = 72\n",
      "\n",
      "9 * 9 = 81\n",
      "\n"
     ]
    }
   ],
   "source": [
    "for i in range(2,10):\n",
    "    for j in range(i, 10):\n",
    "        print(i, \"*\", j, \"=\", i*j)\n",
    "    print()"
   ]
  },
  {
   "cell_type": "code",
   "execution_count": 180,
   "metadata": {},
   "outputs": [
    {
     "name": "stdout",
     "output_type": "stream",
     "text": [
      "2357111317192329313741434753596167717379838997"
     ]
    }
   ],
   "source": [
    "for i in range(2, 101):\n",
    "    chk=1\n",
    "    for j in range(2, i):\n",
    "        if  i%j==0:\n",
    "            chk=0\n",
    "            break\n",
    "    if  chk==1:\n",
    "        print(i, end=\"\")\n",
    "    \n"
   ]
  }
 ],
 "metadata": {
  "kernelspec": {
   "display_name": "Python 3",
   "language": "python",
   "name": "python3"
  },
  "language_info": {
   "codemirror_mode": {
    "name": "ipython",
    "version": 3
   },
   "file_extension": ".py",
   "mimetype": "text/x-python",
   "name": "python",
   "nbconvert_exporter": "python",
   "pygments_lexer": "ipython3",
   "version": "3.13.2"
  }
 },
 "nbformat": 4,
 "nbformat_minor": 2
}

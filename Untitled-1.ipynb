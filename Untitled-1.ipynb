{
 "cells": [
  {
   "cell_type": "markdown",
   "metadata": {},
   "source": [
    "# 파이썬 공부 첫날"
   ]
  },
  {
   "cell_type": "code",
   "execution_count": 4,
   "metadata": {},
   "outputs": [
    {
     "name": "stdout",
     "output_type": "stream",
     "text": [
      "안녕하세요.\n"
     ]
    }
   ],
   "source": [
    "print(\"안녕하세요.\")"
   ]
  },
  {
   "cell_type": "code",
   "execution_count": 3,
   "metadata": {},
   "outputs": [
    {
     "name": "stdout",
     "output_type": "stream",
     "text": [
      "ㅎㅇ\n"
     ]
    }
   ],
   "source": [
    "print(\"ㅎㅇ\")"
   ]
  },
  {
   "cell_type": "code",
   "execution_count": 6,
   "metadata": {},
   "outputs": [
    {
     "name": "stdout",
     "output_type": "stream",
     "text": [
      "몫: 1 나머지: 2\n"
     ]
    }
   ],
   "source": [
    "a = int(input(\"정수: \"))\n",
    "b = int(input(\"정수: \"))\n",
    "print(\"몫:\", a//b, \"나머지:\", a%b)\n"
   ]
  },
  {
   "cell_type": "code",
   "execution_count": 9,
   "metadata": {},
   "outputs": [
    {
     "name": "stdout",
     "output_type": "stream",
     "text": [
      "원의 넓이: 78.53981633974483\n"
     ]
    }
   ],
   "source": [
    "\n",
    "r = int(input(\"반지름: \"))\n",
    "print(\"원의 넓이:\", r*r*math.pi)"
   ]
  },
  {
   "cell_type": "code",
   "execution_count": 12,
   "metadata": {},
   "outputs": [
    {
     "name": "stdout",
     "output_type": "stream",
     "text": [
      "총점: 50 평균: 16.666666666666668\n"
     ]
    }
   ],
   "source": [
    "a = int(input(\"성적1: \"))\n",
    "\n",
    "c = int(input(\"성적3: \"))\n",
    "sum = a+b+c\n",
    "print(\"총점:\", sum, \"평균:\", sum/3)"
   ]
  },
  {
   "cell_type": "code",
   "execution_count": 14,
   "metadata": {},
   "outputs": [
    {
     "name": "stdout",
     "output_type": "stream",
     "text": [
      "1 미터 76 센티미터\n"
     ]
    }
   ],
   "source": [
    "cm = int(input(\"센티미터 단위의 길이: \"))\n",
    "m = cm//100\n",
    "cm = cm%100\n",
    "print(m, \"미터\", cm, \"센티미터\")"
   ]
  },
  {
   "cell_type": "code",
   "execution_count": 15,
   "metadata": {},
   "outputs": [
    {
     "name": "stdout",
     "output_type": "stream",
     "text": [
      "2 시간 0 분 0 초\n"
     ]
    }
   ],
   "source": [
    "s = int(input(\"초 단위의 시간: \"))\n",
    "h = s//3600\n",
    "s = s%3600\n",
    "m = s//60\n",
    "s = s%60\n",
    "print(h, \"시간\", m, \"분\", s, \"초\")"
   ]
  },
  {
   "cell_type": "code",
   "execution_count": 33,
   "metadata": {},
   "outputs": [
    {
     "name": "stdout",
     "output_type": "stream",
     "text": [
      "가장 큰 수 : 3\n"
     ]
    }
   ],
   "source": [
    "a =  int(input(\"정수\"))\n",
    "b =  int(input(\"정수\"))\n",
    "c=  int(input(\"정수\"))\n",
    "if  a > b:\n",
    "    if  a   >   c:  \n",
    "       print(\"제일큰값\",a)\n",
    "    else:\n",
    "        print(\"제일큰값\",c)\n",
    "else:\n",
    "\n",
    "    if     b    >   c:\n",
    "        print(\"가장 큰 수 :\", b)\n",
    "    else:\n",
    "        print(\"가장 큰 수 :\", c)\n"
   ]
  },
  {
   "cell_type": "code",
   "execution_count": null,
   "metadata": {},
   "outputs": [],
   "source": [
    "a = int(input(\"정수: \"))\n",
    "b = int(input(\"정수: \"))\n",
    "c = int(input(\"정수: \"))\n",
    "\n",
    "if a > b:\n",
    "    if a > c:\n",
    "        print(\"가장 큰 수:\", a)  # 들여쓰기 수정\n",
    "    else:\n",
    "        print(\"가장 큰 수:\", c)  # `else` 구문 수정\n",
    "else:\n",
    "    if b > c:\n",
    "        print(\"가장 큰 수:\", b)  # 들여쓰기 수정\n",
    "    else:\n",
    "        print(\"가장 큰 수:\", c)  # `else` 구문 수정\n"
   ]
  },
  {
   "cell_type": "code",
   "execution_count": 38,
   "metadata": {},
   "outputs": [
    {
     "name": "stdout",
     "output_type": "stream",
     "text": [
      "반값입니다. 2500.0 원\n"
     ]
    }
   ],
   "source": [
    "charge=5000\n",
    "age=int(input(\"나이\"))\n",
    "if  age <   8:\n",
    "    print(\"무료입니다.\")\n",
    "elif    age <   60:\n",
    "    print(\"정가\", charge)\n",
    "else:   \n",
    "    print(\"반값입니다.\", charge*0.5,\"원\")"
   ]
  },
  {
   "cell_type": "code",
   "execution_count": 40,
   "metadata": {},
   "outputs": [
    {
     "name": "stdout",
     "output_type": "stream",
     "text": [
      "배수가 아니다\n"
     ]
    }
   ],
   "source": [
    "a=int(input())\n",
    "\n",
    "if  a%3==0 and a%5==0:\n",
    "    print(\"3과5의 배수\")\n",
    "else: print(\"배수가 아니다\")    "
   ]
  },
  {
   "cell_type": "code",
   "execution_count": 44,
   "metadata": {},
   "outputs": [
    {
     "name": "stdout",
     "output_type": "stream",
     "text": [
      "**************************************************"
     ]
    }
   ],
   "source": [
    "for i in range(1, 51, 1):\n",
    " print(\"*\", end=\"\")"
   ]
  },
  {
   "cell_type": "code",
   "execution_count": 50,
   "metadata": {},
   "outputs": [
    {
     "name": "stdout",
     "output_type": "stream",
     "text": [
      "*******************************************************"
     ]
    }
   ],
   "source": [
    "count   =   1\n",
    "while   count<=55:\n",
    "    print(\"*\", end=\"\")\n",
    "    count=count+1"
   ]
  },
  {
   "cell_type": "code",
   "execution_count": 55,
   "metadata": {},
   "outputs": [
    {
     "name": "stdout",
     "output_type": "stream",
     "text": [
      "****"
     ]
    }
   ],
   "source": [
    "for i in range(1,5,1):\n",
    "    print(\"*\", end=\"\")\n"
   ]
  },
  {
   "cell_type": "code",
   "execution_count": 67,
   "metadata": {},
   "outputs": [
    {
     "name": "stdout",
     "output_type": "stream",
     "text": [
      "1 11 22 12 2"
     ]
    }
   ],
   "source": [
    "for i in range(1,3,1):\n",
    "   for  j   in  range(1,3,1):\n",
    "    print(i,j,end=\"\")"
   ]
  },
  {
   "cell_type": "code",
   "execution_count": 73,
   "metadata": {},
   "outputs": [
    {
     "name": "stdout",
     "output_type": "stream",
     "text": [
      "5\n",
      "6\n",
      "7\n",
      "8\n",
      "9\n",
      "10\n",
      "11\n",
      "12\n",
      "13\n",
      "14\n",
      "15\n"
     ]
    }
   ],
   "source": [
    "i=5\n",
    "while i<=15:\n",
    "    print(i)\n",
    "    i=i+1"
   ]
  },
  {
   "cell_type": "code",
   "execution_count": 72,
   "metadata": {},
   "outputs": [
    {
     "name": "stdout",
     "output_type": "stream",
     "text": [
      "5 6 7 8 9 10 11 12 13 14 15 "
     ]
    }
   ],
   "source": [
    "for i in range(5,16,1):\n",
    "    print(i, end=\" \")"
   ]
  },
  {
   "cell_type": "code",
   "execution_count": 78,
   "metadata": {},
   "outputs": [
    {
     "name": "stdout",
     "output_type": "stream",
     "text": [
      "11 10 9 8 7 6 5 4 3 2 1 "
     ]
    }
   ],
   "source": [
    "for i in range(11,0,-1):     \n",
    "    print(i, end=\" \")"
   ]
  },
  {
   "cell_type": "code",
   "execution_count": 81,
   "metadata": {},
   "outputs": [
    {
     "name": "stdout",
     "output_type": "stream",
     "text": [
      "10 9 8 7 6 5 4 3 2 "
     ]
    }
   ],
   "source": [
    "i=10\n",
    "while   i>=2:\n",
    "    print(i, end=\" \")\n",
    "    i=i-1"
   ]
  },
  {
   "cell_type": "code",
   "execution_count": 85,
   "metadata": {},
   "outputs": [
    {
     "name": "stdout",
     "output_type": "stream",
     "text": [
      "1\n",
      "3\n",
      "6\n",
      "10\n",
      "15\n",
      "21\n",
      "28\n",
      "36\n",
      "45\n",
      "55\n",
      "66\n",
      "78\n",
      "91\n",
      "105\n",
      "120\n",
      "136\n",
      "153\n",
      "171\n",
      "190\n",
      "210\n",
      "231\n",
      "253\n",
      "276\n",
      "300\n",
      "325\n",
      "351\n",
      "378\n",
      "406\n",
      "435\n",
      "465\n",
      "496\n",
      "528\n",
      "561\n",
      "595\n",
      "630\n",
      "666\n",
      "703\n",
      "741\n",
      "780\n",
      "820\n",
      "861\n",
      "903\n",
      "946\n",
      "990\n",
      "1035\n",
      "1081\n",
      "1128\n",
      "1176\n",
      "1225\n",
      "1275\n",
      "1326\n",
      "1378\n",
      "1431\n",
      "1485\n",
      "1540\n",
      "1596\n",
      "1653\n",
      "1711\n",
      "1770\n",
      "1830\n",
      "1891\n",
      "1953\n",
      "2016\n",
      "2080\n",
      "2145\n",
      "2211\n",
      "2278\n",
      "2346\n",
      "2415\n",
      "2485\n",
      "2556\n",
      "2628\n",
      "2701\n",
      "2775\n",
      "2850\n",
      "2926\n",
      "3003\n",
      "3081\n",
      "3160\n",
      "3240\n",
      "3321\n",
      "3403\n",
      "3486\n",
      "3570\n",
      "3655\n",
      "3741\n",
      "3828\n",
      "3916\n",
      "4005\n",
      "4095\n",
      "4186\n",
      "4278\n",
      "4371\n",
      "4465\n",
      "4560\n",
      "4656\n",
      "4753\n",
      "4851\n",
      "4950\n",
      "5050\n"
     ]
    }
   ],
   "source": [
    "sum=0\n",
    "for i in range(1,101):\n",
    "    sum = sum+i\n",
    "    print(sum)"
   ]
  },
  {
   "cell_type": "code",
   "execution_count": 93,
   "metadata": {},
   "outputs": [
    {
     "name": "stdout",
     "output_type": "stream",
     "text": [
      "5050\n"
     ]
    }
   ],
   "source": [
    "total = 0  # 합계를 저장할 변수\n",
    "\n",
    "for i in range(1, 101):\n",
    "    total = total+i  # 누적 합 계산\n",
    "\n",
    "print(total)  # 반복문이 끝난 후 최종 값 출력\n"
   ]
  },
  {
   "cell_type": "code",
   "execution_count": null,
   "metadata": {},
   "outputs": [
    {
     "name": "stdout",
     "output_type": "stream",
     "text": [
      "5050\n"
     ]
    }
   ],
   "source": [
    "\n",
    "\n",
    "\n",
    "total = 0\n",
    "for i in range(1, 101):\n",
    "    total = total+i\n",
    "    print(total)"
   ]
  },
  {
   "cell_type": "code",
   "execution_count": 107,
   "metadata": {},
   "outputs": [
    {
     "name": "stdout",
     "output_type": "stream",
     "text": [
      "10\n"
     ]
    }
   ],
   "source": [
    "sum=0\n",
    "n= int(input(\"\"))\n",
    "for i in range(1, n):\n",
    "    sum = sum+i\n",
    "print(sum)    "
   ]
  },
  {
   "cell_type": "code",
   "execution_count": 113,
   "metadata": {},
   "outputs": [
    {
     "name": "stdout",
     "output_type": "stream",
     "text": [
      "1683\n"
     ]
    }
   ],
   "source": [
    "sum = 0\n",
    "for i   in  range(3, 101, 3):\n",
    "    sum = sum+i\n",
    "print(sum)"
   ]
  },
  {
   "cell_type": "code",
   "execution_count": 114,
   "metadata": {},
   "outputs": [
    {
     "name": "stdout",
     "output_type": "stream",
     "text": [
      "1부터 100까지 3의 배수의 합: 1683\n"
     ]
    }
   ],
   "source": [
    "total = 0  # 3의 배수의 합을 저장할 변수\n",
    "\n",
    "for i in range(1, 101):  # 1부터 100까지 반복\n",
    "    if i % 3 == 0:  # 3의 배수인지 확인\n",
    "        total += i  # total = total + i\n",
    "\n",
    "print(\"1부터 100까지 3의 배수의 합:\", total)\n"
   ]
  },
  {
   "cell_type": "code",
   "execution_count": 116,
   "metadata": {},
   "outputs": [
    {
     "name": "stdout",
     "output_type": "stream",
     "text": [
      "2550\n"
     ]
    }
   ],
   "source": [
    "sum = 0\n",
    "for i   in  range(1, 101, 1):\n",
    "    if  i%2==0:\n",
    "        sum=sum+i\n",
    "print(sum)"
   ]
  },
  {
   "cell_type": "code",
   "execution_count": 117,
   "metadata": {},
   "outputs": [
    {
     "name": "stdout",
     "output_type": "stream",
     "text": [
      "1683\n"
     ]
    }
   ],
   "source": [
    "sum = 0\n",
    "for i   in  range(1, 101, 1):\n",
    "    if  i%3==0:\n",
    "        sum=sum+i\n",
    "print(sum)"
   ]
  },
  {
   "cell_type": "code",
   "execution_count": 120,
   "metadata": {},
   "outputs": [
    {
     "name": "stdout",
     "output_type": "stream",
     "text": [
      "-50\n"
     ]
    }
   ],
   "source": [
    "sum=0\n",
    "\n",
    "for i   in  range(1, 101):\n",
    "    if  i%2==0:\n",
    "        sum=sum-i\n",
    "    else:   sum = sum+i\n",
    "print(sum)"
   ]
  },
  {
   "cell_type": "code",
   "execution_count": 121,
   "metadata": {},
   "outputs": [
    {
     "name": "stdout",
     "output_type": "stream",
     "text": [
      "1684\n"
     ]
    }
   ],
   "source": [
    "sum=0\n",
    "\n",
    "for i   in  range(1, 101):\n",
    "    if  i%3==0:\n",
    "        sum=sum-i\n",
    "    else:   sum = sum+i\n",
    "print(sum)"
   ]
  },
  {
   "cell_type": "code",
   "execution_count": 125,
   "metadata": {},
   "outputs": [
    {
     "name": "stdout",
     "output_type": "stream",
     "text": [
      "1, 2, -3, 4, 5, -6, ..., -99, 100의 합: 1684\n"
     ]
    }
   ],
   "source": [
    "total = 0  # 합을 저장할 변수\n",
    "\n",
    "for i in range(1, 101):  # 1부터 100까지 반복\n",
    "    if i % 3 == 0:  # 3의 배수이면 음수로 변환하여 더하기\n",
    "        total += -i  # 음수로 변환하여 더함\n",
    "    else:\n",
    "        total += i  # 그대로 더함\n",
    "\n",
    "print(\"1, 2, -3, 4, 5, -6, ..., -99, 100의 합:\", total)\n",
    "\n",
    "\n"
   ]
  },
  {
   "cell_type": "code",
   "execution_count": 128,
   "metadata": {},
   "outputs": [
    {
     "name": "stdout",
     "output_type": "stream",
     "text": [
      "60\n"
     ]
    }
   ],
   "source": [
    "fact=1\n",
    "for i   in  range(5, 2, -1):\n",
    "    fact=fact*i\n",
    "print(fact)"
   ]
  },
  {
   "cell_type": "code",
   "execution_count": 129,
   "metadata": {},
   "outputs": [
    {
     "name": "stdout",
     "output_type": "stream",
     "text": [
      "120\n"
     ]
    }
   ],
   "source": [
    " import math\n",
    " print(math.factorial(5))\n"
   ]
  },
  {
   "cell_type": "code",
   "execution_count": 144,
   "metadata": {},
   "outputs": [
    {
     "name": "stdout",
     "output_type": "stream",
     "text": [
      "1 2 약수의갯수 2\n"
     ]
    }
   ],
   "source": [
    "n=int(input(\"정수: \"))\n",
    "count=0\n",
    "for i   in  range(1, n+1):\n",
    "    if    n%i==0:\n",
    "        print(i, end=\" \")\n",
    "        count =count+1\n",
    "print( \"약수의갯수\" , count)"
   ]
  },
  {
   "cell_type": "code",
   "execution_count": 149,
   "metadata": {},
   "outputs": [
    {
     "name": "stdout",
     "output_type": "stream",
     "text": [
      "1 3 5 15 "
     ]
    }
   ],
   "source": [
    "n1=int(input(\"정수\"))\n",
    "n2=int(input(\"정수\"))\n",
    "for i   in  range(1, n2+1):\n",
    "        if  n1%i==0  and    n2%i==0:\n",
    "                print(i, end=\" \")"
   ]
  },
  {
   "cell_type": "code",
   "execution_count": 151,
   "metadata": {},
   "outputs": [
    {
     "name": "stdout",
     "output_type": "stream",
     "text": [
      "1\n",
      "2\n",
      "5\n",
      "10\n"
     ]
    }
   ],
   "source": [
    "n1=int(input(\"정수\"))\n",
    "n2=int(input(\"정수\"))\n",
    "n3=int(input(\"정수\"))\n",
    "\n",
    "for i   in  range(1, n1+1,1):\n",
    "    if n1%i==0 and n2%i==0 and  n3%i==0:\n",
    "        print(i)\n"
   ]
  },
  {
   "cell_type": "code",
   "execution_count": null,
   "metadata": {},
   "outputs": [],
   "source": [
    "a=1\n",
    "b=1\n",
    "\n",
    "for i   in  range(3, 20, 1):\n",
    "    "
   ]
  },
  {
   "cell_type": "code",
   "execution_count": 154,
   "metadata": {},
   "outputs": [
    {
     "name": "stdout",
     "output_type": "stream",
     "text": [
      "1 1 2 3 5 8 13 21 34 55 89 144 233 377 610 987 1597 2584 4181 6765 "
     ]
    }
   ],
   "source": [
    "a = 1\n",
    "b = 1\n",
    "print(a, b, end=\" \")\n",
    "for i in range(1, 19):\n",
    "     \n",
    "    c = a+b             \n",
    "    print(c, end=\" \")\n",
    "    a = b\n",
    "    b = c"
   ]
  },
  {
   "cell_type": "code",
   "execution_count": null,
   "metadata": {},
   "outputs": [
    {
     "name": "stdout",
     "output_type": "stream",
     "text": [
      "1 1 2 3 5 8 13 21 34 55 89 144 233 377 610 987 1597 2584 4181 6765 10946 17711 "
     ]
    }
   ],
   "source": [
    "a=0\n",
    "b=0\n",
    "sum=1\n",
    "\n",
    "print(a,b, end=\" \")\n",
    "for i in range(3,21,1):\n",
    "    c= a+b\n",
    "    sum=c+\n",
    "    print(c, end=\" \")\n",
    "    a=b\n",
    "    b=c\n"
   ]
  },
  {
   "cell_type": "code",
   "execution_count": 156,
   "metadata": {},
   "outputs": [
    {
     "name": "stdout",
     "output_type": "stream",
     "text": [
      "피보나치 수열의 20번째 항까지의 합: 10945\n"
     ]
    }
   ],
   "source": [
    "# 피보나치 수열의 20번째 항까지의 합 구하기\n",
    "a, b = 0, 1  # 첫 번째, 두 번째 항\n",
    "total = 1  # 합 (0 + 1)\n",
    "\n",
    "for i in range(3, 21):  # 3번째 항부터 20번째 항까지 계산\n",
    "    next_fib = a + b  # 새로운 피보나치 수 계산\n",
    "    total += next_fib  # 누적 합 갱신\n",
    "    a, b = b, next_fib  # 값 업데이트\n",
    "\n",
    "print(\"피보나치 수열의 20번째 항까지의 합:\", total)\n"
   ]
  },
  {
   "cell_type": "code",
   "execution_count": 159,
   "metadata": {},
   "outputs": [
    {
     "name": "stdout",
     "output_type": "stream",
     "text": [
      "최댓값 : 2412\n"
     ]
    }
   ],
   "source": [
    "a = int(input(\"정수: \"))\n",
    "m = a\n",
    "while a!=0:       \n",
    "    if a>m:\n",
    "     m = a\n",
    "    a = int(input(\"정수: \"))\n",
    "print(\"최댓값 :\", m)"
   ]
  },
  {
   "cell_type": "code",
   "execution_count": 164,
   "metadata": {},
   "outputs": [
    {
     "name": "stdout",
     "output_type": "stream",
     "text": [
      "최소값은 1 0\n"
     ]
    }
   ],
   "source": [
    "a = int(input())\n",
    "min = a\n",
    "\n",
    "while a!=0:\n",
    "    if a<min:\n",
    "        min = a\n",
    "    a  = int(input()) \n",
    "print(\"최소값은\", min, a)"
   ]
  },
  {
   "cell_type": "code",
   "execution_count": 166,
   "metadata": {},
   "outputs": [
    {
     "name": "stdout",
     "output_type": "stream",
     "text": [
      "1 \n",
      "1 2 \n",
      "1 2 3 \n",
      "1 2 3 4 \n",
      "1 2 3 4 5 \n"
     ]
    }
   ],
   "source": [
    "for i in range(1, 6):\n",
    "    for j   in  range(1, i+1):\n",
    "            print(j, end= \" \")\n",
    "    print()"
   ]
  },
  {
   "cell_type": "code",
   "execution_count": 167,
   "metadata": {},
   "outputs": [
    {
     "name": "stdout",
     "output_type": "stream",
     "text": [
      "1 약수: 1 2 약수: 1 2 3 약수: 1 3 4 약수: 1 2 4 5 약수: 1 5 6 약수: 1 2 3 6 7 약수: 1 7 8 약수: 1 2 4 8 9 약수: 1 3 9 10 약수: 1 2 5 10 "
     ]
    }
   ],
   "source": [
    "for i in range(1, 11):\n",
    "    print(i, \"약수:\", end=\" \")\n",
    "    for j   in range(1,i+1):\n",
    "        if  i%j==0 :\n",
    "            print(j, end=\" \")\n",
    "    print\n"
   ]
  },
  {
   "cell_type": "code",
   "execution_count": 170,
   "metadata": {},
   "outputs": [
    {
     "name": "stdout",
     "output_type": "stream",
     "text": [
      "2 3 5 7 11 13 17 19 23 29 31 37 41 43 47 53 59 61 67 71 73 79 83 89 97 "
     ]
    }
   ],
   "source": [
    "for i in range(2, 101):\n",
    "    chk = 1\n",
    "    for j in range(2, i):\n",
    "        if i%j==0:\n",
    "            chk = 0\n",
    "            break\n",
    "    if chk==1:\n",
    "         print(i, end=\" \")"
   ]
  },
  {
   "cell_type": "code",
   "execution_count": 178,
   "metadata": {},
   "outputs": [
    {
     "name": "stdout",
     "output_type": "stream",
     "text": [
      "2 * 2 = 4\n",
      "2 * 3 = 6\n",
      "2 * 4 = 8\n",
      "2 * 5 = 10\n",
      "2 * 6 = 12\n",
      "2 * 7 = 14\n",
      "2 * 8 = 16\n",
      "2 * 9 = 18\n",
      "\n",
      "3 * 3 = 9\n",
      "3 * 4 = 12\n",
      "3 * 5 = 15\n",
      "3 * 6 = 18\n",
      "3 * 7 = 21\n",
      "3 * 8 = 24\n",
      "3 * 9 = 27\n",
      "\n",
      "4 * 4 = 16\n",
      "4 * 5 = 20\n",
      "4 * 6 = 24\n",
      "4 * 7 = 28\n",
      "4 * 8 = 32\n",
      "4 * 9 = 36\n",
      "\n",
      "5 * 5 = 25\n",
      "5 * 6 = 30\n",
      "5 * 7 = 35\n",
      "5 * 8 = 40\n",
      "5 * 9 = 45\n",
      "\n",
      "6 * 6 = 36\n",
      "6 * 7 = 42\n",
      "6 * 8 = 48\n",
      "6 * 9 = 54\n",
      "\n",
      "7 * 7 = 49\n",
      "7 * 8 = 56\n",
      "7 * 9 = 63\n",
      "\n",
      "8 * 8 = 64\n",
      "8 * 9 = 72\n",
      "\n",
      "9 * 9 = 81\n",
      "\n"
     ]
    }
   ],
   "source": [
    "for i in range(2,10):\n",
    "    for j in range(i, 10):\n",
    "        print(i, \"*\", j, \"=\", i*j)\n",
    "    print()"
   ]
  },
  {
   "cell_type": "code",
   "execution_count": 180,
   "metadata": {},
   "outputs": [
    {
     "name": "stdout",
     "output_type": "stream",
     "text": [
      "2357111317192329313741434753596167717379838997"
     ]
    }
   ],
   "source": [
    "for i in range(2, 101):\n",
    "    chk=1\n",
    "    for j in range(2, i):\n",
    "        if  i%j==0:\n",
    "            chk=0\n",
    "            break\n",
    "    if  chk==1:\n",
    "        print(i, end=\"\")\n",
    "    \n"
   ]
  },
  {
   "cell_type": "code",
   "execution_count": 1,
   "metadata": {},
   "outputs": [
    {
     "name": "stdout",
     "output_type": "stream",
     "text": [
      "153\n"
     ]
    }
   ],
   "source": [
    "n=1\n",
    "sum=0\n",
    "\n",
    "for i in range(1,6):\n",
    "    n=n*i\n",
    "    sum=sum+n\n",
    "print(sum)"
   ]
  },
  {
   "cell_type": "code",
   "execution_count": 9,
   "metadata": {},
   "outputs": [
    {
     "name": "stdout",
     "output_type": "stream",
     "text": [
      "2\n",
      "3\n",
      "5\n",
      "7\n",
      "11\n",
      "13\n",
      "17\n",
      "19\n",
      "23\n",
      "29\n",
      "31\n",
      "37\n",
      "41\n",
      "43\n",
      "47\n",
      "53\n",
      "59\n",
      "61\n",
      "67\n",
      "71\n",
      "73\n",
      "79\n",
      "83\n",
      "89\n",
      "97\n"
     ]
    }
   ],
   "source": [
    "##2부터 100까지의 소수 구하기\n",
    "for i in   range(2,101):\n",
    "    chk=1 #값이 1이면 소수임\n",
    "    for j in range(2, i):\n",
    "        if  i%j==0:\n",
    "            chk=0\n",
    "            break\n",
    "    if chk==1:\n",
    "        print(i)            "
   ]
  },
  {
   "cell_type": "code",
   "execution_count": 19,
   "metadata": {},
   "outputs": [
    {
     "name": "stdout",
     "output_type": "stream",
     "text": [
      "1 약수:\n",
      "1 \n",
      "2 약수:\n",
      "1 2 \n",
      "3 약수:\n",
      "1 3 \n",
      "4 약수:\n",
      "1 2 4 \n",
      "5 약수:\n",
      "1 5 \n",
      "6 약수:\n",
      "1 2 3 6 \n",
      "7 약수:\n",
      "1 7 \n",
      "8 약수:\n",
      "1 2 4 8 \n",
      "9 약수:\n",
      "1 3 9 \n",
      "10 약수:\n",
      "1 2 5 10 \n"
     ]
    }
   ],
   "source": [
    "for i in range(1,11):\n",
    "    print(i, \"약수:\")\n",
    "    for j   in  range(1,i+1):\n",
    "       if    i%j==0 :\n",
    "           print(j, end=\" \")\n",
    "    print()\n",
    "            "
   ]
  },
  {
   "cell_type": "code",
   "execution_count": 47,
   "metadata": {},
   "outputs": [
    {
     "name": "stdout",
     "output_type": "stream",
     "text": [
      "5 4 3 2 1 \n",
      "4 3 2 1 \n",
      "3 2 1 \n",
      "2 1 \n",
      "1 \n"
     ]
    }
   ],
   "source": [
    "for i   in  range(5,0,-1):\n",
    "    for j   in  range(i,0,-1 ):\n",
    "        print(j, end=\" \")\n",
    "    print()\n"
   ]
  },
  {
   "cell_type": "code",
   "execution_count": 49,
   "metadata": {},
   "outputs": [
    {
     "name": "stdout",
     "output_type": "stream",
     "text": [
      "1 1 2 3 5 8 13 21 34 55 89 144 233 377 610 987 1597 2584 4181 "
     ]
    }
   ],
   "source": [
    "a=1\n",
    "b=1\n",
    "print(a,b, end=\" \")\n",
    "for i in range(3,20):\n",
    "    c= a+b\n",
    "    print(c, end=\" \")\n",
    "    \n",
    "    a =b \n",
    "    b =c\n",
    "\n"
   ]
  },
  {
   "cell_type": "code",
   "execution_count": 52,
   "metadata": {},
   "outputs": [
    {
     "name": "stdout",
     "output_type": "stream",
     "text": [
      "13 소수임\n"
     ]
    }
   ],
   "source": [
    "chk=1\n",
    "n=int(input())\n",
    "\n",
    "for i   in  range(2,n):\n",
    "   if n%i==0:\n",
    "    chk=0\n",
    "    break\n",
    "if  chk==1:\n",
    "    print(n,\"소수임\")\n",
    "else:\n",
    "    print(n,\"소수아님님\")"
   ]
  },
  {
   "cell_type": "code",
   "execution_count": 55,
   "metadata": {},
   "outputs": [
    {
     "data": {
      "text/plain": [
       "2"
      ]
     },
     "execution_count": 55,
     "metadata": {},
     "output_type": "execute_result"
    }
   ],
   "source": [
    "1+1"
   ]
  },
  {
   "cell_type": "code",
   "execution_count": 56,
   "metadata": {},
   "outputs": [
    {
     "ename": "SyntaxError",
     "evalue": "invalid syntax (392670325.py, line 1)",
     "output_type": "error",
     "traceback": [
      "  \u001b[36mCell\u001b[39m\u001b[36m \u001b[39m\u001b[32mIn[56]\u001b[39m\u001b[32m, line 1\u001b[39m\n\u001b[31m    \u001b[39m\u001b[31mpip install SRTrain\u001b[39m\n        ^\n\u001b[31mSyntaxError\u001b[39m\u001b[31m:\u001b[39m invalid syntax\n"
     ]
    }
   ],
   "source": [
    "pip install SRTrain\n",
    ">>> from SRT import SRT\n",
    ">>> srt = SRT(\"010-9303-0734\", '비밀번호')\n",
    "\n",
    ">>> dep = '광주송정'\n",
    ">>> arr = '수서'\n",
    ">>> date = '20250428'\n",
    ">>> time = '053800'\n",
    ">>> trains = srt.search_train(dep, arr, date, time)\n",
    ">>> trains\n",
    "\n",
    ">>> reservation = srt.reserve(trains[1])\n",
    ">>> reservation"
   ]
  },
  {
   "cell_type": "code",
   "execution_count": 63,
   "metadata": {},
   "outputs": [
    {
     "name": "stdout",
     "output_type": "stream",
     "text": [
      "[1, 2, 3, 4, 5, 6, 7, 8, 9, 10]\n"
     ]
    }
   ],
   "source": [
    "a=[]\n",
    "\n",
    "for i in range(1, 11):\n",
    "    a.append(i)\n",
    "print(a)\n",
    "\n"
   ]
  },
  {
   "cell_type": "code",
   "execution_count": 64,
   "metadata": {},
   "outputs": [
    {
     "name": "stdout",
     "output_type": "stream",
     "text": [
      "[10, 9, 8, 7, 6, 5, 4, 3, 2, 1]\n"
     ]
    }
   ],
   "source": [
    "a =[]\n",
    "for i in range(10,0,-1):\n",
    "    a.append(i)\n",
    "print(a)"
   ]
  },
  {
   "cell_type": "code",
   "execution_count": 72,
   "metadata": {},
   "outputs": [
    {
     "name": "stdout",
     "output_type": "stream",
     "text": [
      "100\n",
      "90\n",
      "80\n",
      "70\n",
      "60\n",
      "50\n",
      "40\n",
      "30\n",
      "20\n"
     ]
    }
   ],
   "source": [
    "a=[]\n",
    "for i in range(10,101,10):\n",
    "    a.append(i)\n",
    "for i in range(9,0,-1):\n",
    "    print(a[i])"
   ]
  },
  {
   "cell_type": "code",
   "execution_count": 73,
   "metadata": {},
   "outputs": [
    {
     "name": "stdout",
     "output_type": "stream",
     "text": [
      "[10, 9, 8, 7, 6, 5, 4, 3, 2, 1]\n"
     ]
    }
   ],
   "source": [
    "a = [1, 2, 3, 4, 5, 6, 7, 8, 9, 10]\n",
    "for i in range(0, 5):     \n",
    "    temp = a[i]    \n",
    "    a[i] = a[9-i]\n",
    "    a[9-i] = temp\n",
    "print(a)"
   ]
  },
  {
   "cell_type": "code",
   "execution_count": 75,
   "metadata": {},
   "outputs": [
    {
     "name": "stdout",
     "output_type": "stream",
     "text": [
      "[10, 9, 8, 7, 6, 5, 4, 3, 2, 1]\n"
     ]
    }
   ],
   "source": [
    "a = [1, 2,3,4,5,6,7,8,9,10]\n",
    "a.reverse()\n",
    "print(a)"
   ]
  },
  {
   "cell_type": "code",
   "execution_count": 86,
   "metadata": {},
   "outputs": [
    {
     "name": "stdout",
     "output_type": "stream",
     "text": [
      "[10, 9, 8, 7, 6, 5, 4, 3, 2, 1]\n"
     ]
    }
   ],
   "source": [
    "a=[1,2,3,4,5,6,7,8,9,10]\n",
    "b=[]\n",
    "for i in range(0,10,1):\n",
    "    b.append(a[9-i])\n",
    "print(b)\n"
   ]
  },
  {
   "cell_type": "code",
   "execution_count": 91,
   "metadata": {},
   "outputs": [
    {
     "name": "stdout",
     "output_type": "stream",
     "text": [
      "[2, 3, 4, 5, 6, 7, 8, 9, 10, 1]\n"
     ]
    }
   ],
   "source": [
    "a = [1, 2, 3, 4, 5, 6, 7, 8, 9, 10]\n",
    "temp = a[0]\n",
    "for i in range(0, 9):\n",
    "    \n",
    "    a[i] = a[i+1]\n",
    "a[9] = temp\n",
    "print(a)"
   ]
  },
  {
   "cell_type": "code",
   "execution_count": 94,
   "metadata": {},
   "outputs": [
    {
     "name": "stdout",
     "output_type": "stream",
     "text": [
      "[2, 3, 4, 5, 6, 7, 8, 9, 10, 1]\n"
     ]
    }
   ],
   "source": [
    "a = [1, 2, 3, 4, 5, 6, 7, 8, 9, 10]\n",
    "temp = a[0]\n",
    "for i in range(0, 9):\n",
    "    \n",
    "    a[i] = a[i+1]\n",
    "a[9] = temp\n",
    "print(a)"
   ]
  },
  {
   "cell_type": "code",
   "execution_count": 104,
   "metadata": {},
   "outputs": [
    {
     "name": "stdout",
     "output_type": "stream",
     "text": [
      "[10, 1, 2, 3, 4, 5, 6, 7, 8, 9]\n",
      "10\n"
     ]
    }
   ],
   "source": [
    "a= [1,2,3,4,5,6,7,8,9,10]\n",
    "temp=a[9]\n",
    "for i in range(8,-1,-1):\n",
    "    a[i+1]=a[i]\n",
    "    \n",
    "a[0] = temp\n",
    "print(a)\n",
    "print(temp)"
   ]
  },
  {
   "cell_type": "code",
   "execution_count": 106,
   "metadata": {},
   "outputs": [
    {
     "ename": "TypeError",
     "evalue": "'list' object is not callable",
     "output_type": "error",
     "traceback": [
      "\u001b[31m---------------------------------------------------------------------------\u001b[39m",
      "\u001b[31mTypeError\u001b[39m                                 Traceback (most recent call last)",
      "\u001b[36mCell\u001b[39m\u001b[36m \u001b[39m\u001b[32mIn[106]\u001b[39m\u001b[32m, line 4\u001b[39m\n\u001b[32m      2\u001b[39m \u001b[38;5;28mmax\u001b[39m=a[\u001b[32m0\u001b[39m]\n\u001b[32m      3\u001b[39m \u001b[38;5;28;01mfor\u001b[39;00m i \u001b[38;5;129;01min\u001b[39;00m \u001b[38;5;28mrange\u001b[39m(\u001b[32m0\u001b[39m,\u001b[32m10\u001b[39m):\n\u001b[32m----> \u001b[39m\u001b[32m4\u001b[39m     \u001b[38;5;28;01mif\u001b[39;00m \u001b[38;5;28mmax\u001b[39m < \u001b[43ma\u001b[49m\u001b[43m(\u001b[49m\u001b[43mi\u001b[49m\u001b[43m)\u001b[49m:\n\u001b[32m      5\u001b[39m         \u001b[38;5;28mmax\u001b[39m=a(i)\n\u001b[32m      6\u001b[39m         \u001b[38;5;28mprint\u001b[39m(\u001b[38;5;28mmax\u001b[39m)\n",
      "\u001b[31mTypeError\u001b[39m: 'list' object is not callable"
     ]
    }
   ],
   "source": [
    "a=[1,2,3,4,5,6,7,8,9,10]\n",
    "max=a[0]\n",
    "for i in range(0,10):\n",
    "    if max < a(i):\n",
    "        max=a(i)\n",
    "        print(max)"
   ]
  },
  {
   "cell_type": "code",
   "execution_count": null,
   "metadata": {},
   "outputs": [
    {
     "ename": "TypeError",
     "evalue": "'module' object is not callable. Did you mean: 'random.random(...)'?",
     "output_type": "error",
     "traceback": [
      "\u001b[31m---------------------------------------------------------------------------\u001b[39m",
      "\u001b[31mTypeError\u001b[39m                                 Traceback (most recent call last)",
      "\u001b[36mCell\u001b[39m\u001b[36m \u001b[39m\u001b[32mIn[117]\u001b[39m\u001b[32m, line 4\u001b[39m\n\u001b[32m      2\u001b[39m a = []\n\u001b[32m      3\u001b[39m \u001b[38;5;28;01mfor\u001b[39;00m i \u001b[38;5;129;01min\u001b[39;00m \u001b[38;5;28mrange\u001b[39m(\u001b[32m10\u001b[39m):\n\u001b[32m----> \u001b[39m\u001b[32m4\u001b[39m     a.append(\u001b[43mrandom\u001b[49m\u001b[43m(\u001b[49m\u001b[32;43m1\u001b[39;49m\u001b[43m,\u001b[49m\u001b[43m \u001b[49m\u001b[32;43m100\u001b[39;49m\u001b[43m)\u001b[49m)\n\u001b[32m      5\u001b[39m \u001b[38;5;28mprint\u001b[39m(a)\n\u001b[32m      6\u001b[39m m=a[\u001b[32m0\u001b[39m]\n",
      "\u001b[31mTypeError\u001b[39m: 'module' object is not callable. Did you mean: 'random.random(...)'?"
     ]
    }
   ],
   "source": [
    "import random\n",
    "a = []\n",
    "for i in range(10):\n",
    "    a.append(random.randint(1, 100))\n",
    "print(a)\n",
    "m=a[0]\n",
    "for i in range(1,10):\n",
    "    if m < a[i]:\n",
    "        m=a[i]\n",
    "print(m)\n"
   ]
  },
  {
   "cell_type": "code",
   "execution_count": 123,
   "metadata": {},
   "outputs": [
    {
     "name": "stdout",
     "output_type": "stream",
     "text": [
      "[40, 99, 25, 69, 91, 23, 74, 76, 78, 75]\n",
      "23\n"
     ]
    }
   ],
   "source": [
    "import random\n",
    "a=[]\n",
    "\n",
    "for i in range(10):\n",
    "    a.append(random.randint(1,100))\n",
    "print(a)\n",
    "\n",
    "m=a[0]\n",
    "for i in range(1,10):\n",
    "    if  m > a[i] :\n",
    "        m=a[i]\n",
    "print(m)\n",
    "\n",
    "\n",
    "\n"
   ]
  },
  {
   "cell_type": "code",
   "execution_count": 136,
   "metadata": {},
   "outputs": [
    {
     "name": "stdout",
     "output_type": "stream",
     "text": [
      "랜덤 리스트: [67, 57, 100, 68, 14, 53, 43, 98, 49, 82]\n"
     ]
    },
    {
     "ename": "TypeError",
     "evalue": "'int' object is not callable",
     "output_type": "error",
     "traceback": [
      "\u001b[31m---------------------------------------------------------------------------\u001b[39m",
      "\u001b[31mTypeError\u001b[39m                                 Traceback (most recent call last)",
      "\u001b[36mCell\u001b[39m\u001b[36m \u001b[39m\u001b[32mIn[136]\u001b[39m\u001b[32m, line 6\u001b[39m\n\u001b[32m      3\u001b[39m a = [random.randint(\u001b[32m1\u001b[39m, \u001b[32m100\u001b[39m) \u001b[38;5;28;01mfor\u001b[39;00m _ \u001b[38;5;129;01min\u001b[39;00m \u001b[38;5;28mrange\u001b[39m(\u001b[32m10\u001b[39m)]\n\u001b[32m      4\u001b[39m \u001b[38;5;28mprint\u001b[39m(\u001b[33m\"\u001b[39m\u001b[33m랜덤 리스트:\u001b[39m\u001b[33m\"\u001b[39m, a)\n\u001b[32m----> \u001b[39m\u001b[32m6\u001b[39m max_value = \u001b[38;5;28;43mmax\u001b[39;49m\u001b[43m(\u001b[49m\u001b[43ma\u001b[49m\u001b[43m)\u001b[49m  \u001b[38;5;66;03m# max 대신 다른 변수명 사용\u001b[39;00m\n\u001b[32m      7\u001b[39m min_value = \u001b[38;5;28mmin\u001b[39m(a)\n\u001b[32m      9\u001b[39m \u001b[38;5;28mprint\u001b[39m(\u001b[33m\"\u001b[39m\u001b[33m최댓값:\u001b[39m\u001b[33m\"\u001b[39m, max_value)\n",
      "\u001b[31mTypeError\u001b[39m: 'int' object is not callable"
     ]
    }
   ],
   "source": [
    "import random\n",
    "\n",
    "a = [random.randint(1, 100) for _ in range(10)]\n",
    "print(\"랜덤 리스트:\", a)\n",
    "\n",
    "max_value = max(a)  # max 대신 다른 변수명 사용\n",
    "min_value = min(a)\n",
    "\n",
    "print(\"최댓값:\", max_value)\n",
    "print(\"최솟값:\", min_value)\n"
   ]
  },
  {
   "cell_type": "code",
   "execution_count": 137,
   "metadata": {},
   "outputs": [
    {
     "name": "stdout",
     "output_type": "stream",
     "text": [
      "[0, 0, 0, 0, 0, 0, 0, 0, 0, 0, 0, 0, 0, 0, 0, 0, 0, 0, 0, 0, 0, 0, 0, 0, 0, 0, 0, 0, 0, 0, 0, 0, 0, 0, 0, 0, 0, 0, 0, 0, 0, 0, 0, 0, 0, 0, 0, 0, 0, 0, 0, 0, 0, 0, 0, 0, 0, 0, 0, 0, 0, 0, 0, 0, 0, 0, 0, 0, 0, 0, 0, 0, 0, 0, 0, 0, 0, 0, 0, 0, 0, 0, 0, 0, 0, 0, 0, 0, 0, 0, 0, 0, 0, 0, 0, 0, 0, 0, 0, 0, 0]\n"
     ]
    }
   ],
   "source": [
    "a = []\n",
    "for i in range(1, 102):\n",
    "    \n",
    "    a.append(0)\n",
    "print(a)"
   ]
  },
  {
   "cell_type": "code",
   "execution_count": null,
   "metadata": {},
   "outputs": [
    {
     "ename": "IndexError",
     "evalue": "list index out of range",
     "output_type": "error",
     "traceback": [
      "\u001b[31m---------------------------------------------------------------------------\u001b[39m",
      "\u001b[31mIndexError\u001b[39m                                Traceback (most recent call last)",
      "\u001b[36mCell\u001b[39m\u001b[36m \u001b[39m\u001b[32mIn[139]\u001b[39m\u001b[32m, line 9\u001b[39m\n\u001b[32m      7\u001b[39m \u001b[38;5;66;03m# 이진수 출력 (뒤집어서 출력해야 하므로, 리스트의 마지막부터 처음까지 출력)\u001b[39;00m\n\u001b[32m      8\u001b[39m \u001b[38;5;28;01mfor\u001b[39;00m i \u001b[38;5;129;01min\u001b[39;00m \u001b[38;5;28mrange\u001b[39m(\u001b[32m7\u001b[39m, -\u001b[32m1\u001b[39m, -\u001b[32m1\u001b[39m):\n\u001b[32m----> \u001b[39m\u001b[32m9\u001b[39m     \u001b[38;5;28mprint\u001b[39m(\u001b[43mb\u001b[49m\u001b[43m[\u001b[49m\u001b[43mi\u001b[49m\u001b[43m]\u001b[49m, end=\u001b[33m\"\u001b[39m\u001b[33m \u001b[39m\u001b[33m\"\u001b[39m)  \u001b[38;5;66;03m# 이진수를 공백으로 구분해서 출력\u001b[39;00m\n",
      "\u001b[31mIndexError\u001b[39m: list index out of range"
     ]
    }
   ],
   "source": [
    "b = []\n",
    "n = int(input(\"10진수: \"))  # 사용자로부터 10진수 입력 받기\n",
    "while n != 0:  # n이 0이 아닐 때까지 반복\n",
    "    b.append(n % 2)  # n을 2로 나눈 나머지를 리스트에 추가 (2진수의 각 자릿수)\n",
    "    n = n // 2  # n을 2로 나눈 몫으로 업데이트\n",
    "\n",
    "# 이진수 출력 (뒤집어서 출력해야 하므로, 리스트의 마지막부터 처음까지 출력)\n",
    "for i in range(len(b) - 1, -1, -1):\n",
    "    print(b[i], end=\" \")  # 이진수를 공백으로 구분해서 출력\n"
   ]
  },
  {
   "cell_type": "code",
   "execution_count": 142,
   "metadata": {},
   "outputs": [
    {
     "name": "stdout",
     "output_type": "stream",
     "text": [
      "2 1 "
     ]
    }
   ],
   "source": [
    "b = []\n",
    "n = int(input(\"10진수: \"))  # 사용자로부터 10진수 입력 받기\n",
    "while n != 0:  # n이 0이 아닐 때까지 반복\n",
    "    b.append(n % 16)  # n을 2로 나눈 나머지를 리스트에 추가 (2진수의 각 자릿수)\n",
    "    n = n // 16  # n을 2로 나눈 몫으로 업데이트\n",
    "\n",
    "# 이진수 출력 (뒤집어서 출력해야 하므로, 리스트의 마지막부터 처음까지 출력)\n",
    "for i in range(len(b) - 1, -1, -1):\n",
    "    print(b[i], end=\" \")  # 이진수를 공백으로 구분해서 출력"
   ]
  },
  {
   "cell_type": "code",
   "execution_count": 143,
   "metadata": {},
   "outputs": [
    {
     "name": "stdout",
     "output_type": "stream",
     "text": [
      "30\n"
     ]
    }
   ],
   "source": [
    "b=[1,1,1,1,0]\n",
    "n=0\n",
    "for i in range(0,5):\n",
    "    n=n+b[i]*(2**(4-i))\n",
    "print(n)"
   ]
  },
  {
   "cell_type": "code",
   "execution_count": null,
   "metadata": {},
   "outputs": [],
   "source": [
    "b=[1,4,3,5]\n",
    "n=0\n",
    "for i in range(0,5):\n",
    "    n=n+b[i]*(2**(4-i))\n",
    "print(n)"
   ]
  },
  {
   "cell_type": "code",
   "execution_count": 152,
   "metadata": {},
   "outputs": [
    {
     "name": "stdout",
     "output_type": "stream",
     "text": [
      "탐색성공 10\n"
     ]
    }
   ],
   "source": [
    "a=[11,22,33,44,55,66,77,88,99,00]\n",
    "key=int(input())\n",
    "cnt=0\n",
    "while   cnt<10:\n",
    "    if  key == a[cnt]:\n",
    "        print(\"탐색성공\", cnt+1)\n",
    "        break\n",
    "    cnt=cnt+1\n",
    "if cnt ==10:\n",
    "    print(\"탐색 실패패\")"
   ]
  },
  {
   "cell_type": "code",
   "execution_count": 156,
   "metadata": {},
   "outputs": [
    {
     "name": "stdout",
     "output_type": "stream",
     "text": [
      "6 에서 탐색 성공\n"
     ]
    }
   ],
   "source": [
    "a = [11, 18, 26, 27, 39, 57, 63, 75, 76, 80]  # 정렬된 배열\n",
    "key = int(input(\"키 : \"))  # 찾고자 하는 값 입력 받기\n",
    "low = 0  # 배열의 첫 번째 인덱스\n",
    "high = 9  # 배열의 마지막 인덱스\n",
    "\n",
    "while low <= high:\n",
    "    mid = (low + high) // 2  # 중간 인덱스 계산\n",
    "\n",
    "    if key == a[mid]:  # key가 중간값과 같으면\n",
    "        print(mid, \"에서 탐색 성공\")\n",
    "        break  # 탐색 성공, 종료\n",
    "    elif key < a[mid]:  # key가 중간값보다 작으면\n",
    "        high = mid - 1  # 탐색 범위를 왼쪽 절반으로 좁힘\n",
    "    else:  # key가 중간값보다 크면\n",
    "        low = mid + 1  # 탐색 범위를 오른쪽 절반으로 좁힘\n",
    "\n",
    "if low > high:  # 탐색 범위가 끝까지 왔을 때\n",
    "    print(\"탐색 실패\")  # 찾지 못한 경우\n"
   ]
  },
  {
   "cell_type": "code",
   "execution_count": 160,
   "metadata": {},
   "outputs": [
    {
     "name": "stdout",
     "output_type": "stream",
     "text": [
      "안녕\n"
     ]
    }
   ],
   "source": [
    "def hello():\n",
    "    print(\"안녕\")\n",
    "hello()"
   ]
  },
  {
   "cell_type": "code",
   "execution_count": 168,
   "metadata": {},
   "outputs": [
    {
     "name": "stdout",
     "output_type": "stream",
     "text": [
      "안녕 name\n"
     ]
    }
   ],
   "source": [
    "def hello(name):\n",
    "    print(\"안녕\",name)\n",
    "\n",
    "hello(\"name\")"
   ]
  },
  {
   "cell_type": "code",
   "execution_count": 169,
   "metadata": {},
   "outputs": [
    {
     "name": "stdout",
     "output_type": "stream",
     "text": [
      "125\n"
     ]
    }
   ],
   "source": [
    "def power(a,b):\n",
    "    c =a**b\n",
    "    return c\n",
    "a = power(5,3)\n",
    "print(a)"
   ]
  },
  {
   "cell_type": "code",
   "execution_count": 177,
   "metadata": {},
   "outputs": [
    {
     "name": "stdout",
     "output_type": "stream",
     "text": [
      "안녕 125\n",
      "안녕 125\n",
      "안녕 파이썬\n"
     ]
    }
   ],
   "source": [
    "hello(a)\n",
    "print(\"안녕\",a)\n",
    "\n",
    "hello(\"파이썬\")"
   ]
  },
  {
   "cell_type": "code",
   "execution_count": 181,
   "metadata": {},
   "outputs": [
    {
     "name": "stdout",
     "output_type": "stream",
     "text": [
      "55\n",
      "33\n",
      "55\n"
     ]
    }
   ],
   "source": [
    "def func(a,b):     \n",
    "    if a>b:\n",
    "         \n",
    "        return a\n",
    "    else:\n",
    "        return b\n",
    "a = int(input(\"정수: \"))\n",
    "b = int(input(\"정수: \"))\n",
    "r = func(a, b)\n",
    "print(r)\n",
    "print(a)\n",
    "print(b)"
   ]
  },
  {
   "cell_type": "code",
   "execution_count": 183,
   "metadata": {},
   "outputs": [
    {
     "name": "stdout",
     "output_type": "stream",
     "text": [
      "3\n",
      "3\n",
      "5\n"
     ]
    }
   ],
   "source": [
    "def func(a,b):     \n",
    "    if a<b:\n",
    "         \n",
    "        return a\n",
    "    else:\n",
    "        return b\n",
    "a = int(input(\"정수: \"))\n",
    "b = int(input(\"정수: \"))\n",
    "r = func(a, b)\n",
    "print(r)\n",
    "print(a)\n",
    "print(b)"
   ]
  },
  {
   "cell_type": "code",
   "execution_count": 185,
   "metadata": {},
   "outputs": [
    {
     "name": "stdout",
     "output_type": "stream",
     "text": [
      "(33, 44, 55)\n"
     ]
    },
    {
     "data": {
      "text/plain": [
       "55"
      ]
     },
     "execution_count": 185,
     "metadata": {},
     "output_type": "execute_result"
    }
   ],
   "source": [
    "def func(a,b,c):\n",
    "    if a>b:\n",
    "        if a>c:\n",
    "            return a\n",
    "        else: \n",
    "            return c\n",
    "    else:\n",
    "        if b>c:\n",
    "            return b\n",
    "        else:\n",
    "            return c\n",
    "a = int(input(\"정수: \"))\n",
    "b = int(input(\"정수: \"))\n",
    "c = int(input(\"정수: \"))\n",
    "\n",
    "r=(a,b,c)\n",
    "print(r)\n",
    "func(a,b,c)\n",
    "\n"
   ]
  },
  {
   "cell_type": "code",
   "execution_count": 187,
   "metadata": {},
   "outputs": [
    {
     "name": "stdout",
     "output_type": "stream",
     "text": [
      "1 : 1 \n",
      "2 : 1 2 \n",
      "3 : 1 3 \n",
      "4 : 1 2 4 \n",
      "5 : 1 5 \n",
      "6 : 1 2 3 6 \n",
      "7 : 1 7 \n",
      "8 : 1 2 4 8 \n",
      "9 : 1 3 9 \n",
      "10 : 1 2 5 10 \n"
     ]
    }
   ],
   "source": [
    "def func(a):\n",
    "    # a의 약수를 출력하는 함수\n",
    "    for i in range(1, a+1):  # 1부터 a까지 반복\n",
    "        if a % i == 0:  # a가 i로 나누어 떨어지면\n",
    "            print(i, end=\" \")  # i를 출력\n",
    "\n",
    "for i in range(1, 11):  # 1부터 10까지 반복\n",
    "    print(i, \":\", end=\" \")  # 숫자 출력\n",
    "    func(i)  # i에 대해 약수를 출력하는 함수 호출\n",
    "    print()  # 줄바꿈\n"
   ]
  }
 ],
 "metadata": {
  "kernelspec": {
   "display_name": "Python 3",
   "language": "python",
   "name": "python3"
  },
  "language_info": {
   "codemirror_mode": {
    "name": "ipython",
    "version": 3
   },
   "file_extension": ".py",
   "mimetype": "text/x-python",
   "name": "python",
   "nbconvert_exporter": "python",
   "pygments_lexer": "ipython3",
   "version": "3.13.2"
  }
 },
 "nbformat": 4,
 "nbformat_minor": 2
}
